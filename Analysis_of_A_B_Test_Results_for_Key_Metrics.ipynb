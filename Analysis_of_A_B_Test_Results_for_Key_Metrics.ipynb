{
  "nbformat": 4,
  "nbformat_minor": 0,
  "metadata": {
    "colab": {
      "provenance": [],
      "collapsed_sections": [
        "bX-WlrY2qC2h",
        "8Ie6m-J2Gv_e",
        "pjVxyuW0Yaoo"
      ],
      "toc_visible": true
    },
    "kernelspec": {
      "name": "python3",
      "display_name": "Python 3"
    },
    "language_info": {
      "name": "python"
    }
  },
  "cells": [
    {
      "cell_type": "code",
      "execution_count": 11,
      "metadata": {
        "id": "KO8GfL9PoIlH"
      },
      "outputs": [],
      "source": [
        "import numpy as np\n",
        "import pandas as pd\n",
        "import matplotlib.pyplot as plt\n",
        "import seaborn as sns\n",
        "import scipy.stats as stats"
      ]
    },
    {
      "cell_type": "markdown",
      "source": [
        "# Importing of dataset"
      ],
      "metadata": {
        "id": "bX-WlrY2qC2h"
      }
    },
    {
      "cell_type": "code",
      "source": [
        "control = pd.read_csv('control_group.csv', sep = ';')\n",
        "test = pd.read_csv('test_group.csv', sep = ';')\n",
        "control.head()"
      ],
      "metadata": {
        "colab": {
          "base_uri": "https://localhost:8080/",
          "height": 206
        },
        "id": "qNfyzhZJoYj5",
        "outputId": "b32492cb-8ccc-4c95-87be-4910de737c60"
      },
      "execution_count": 75,
      "outputs": [
        {
          "output_type": "execute_result",
          "data": {
            "text/plain": [
              "      Campaign Name        Date  Spend [USD]  # of Impressions     Reach  \\\n",
              "0  Control Campaign  01.08.2019         2280           82702.0   56930.0   \n",
              "1  Control Campaign  02.08.2019         1757          121040.0  102513.0   \n",
              "2  Control Campaign  03.08.2019         2343          131711.0  110862.0   \n",
              "3  Control Campaign  04.08.2019         1940           72878.0   61235.0   \n",
              "4  Control Campaign  05.08.2019         1835               NaN       NaN   \n",
              "\n",
              "   # of Website Clicks  # of Searches  # of View Content  # of Add to Cart  \\\n",
              "0               7016.0         2290.0             2159.0            1819.0   \n",
              "1               8110.0         2033.0             1841.0            1219.0   \n",
              "2               6508.0         1737.0             1549.0            1134.0   \n",
              "3               3065.0         1042.0              982.0            1183.0   \n",
              "4                  NaN            NaN                NaN               NaN   \n",
              "\n",
              "   # of Purchase  \n",
              "0          618.0  \n",
              "1          511.0  \n",
              "2          372.0  \n",
              "3          340.0  \n",
              "4            NaN  "
            ],
            "text/html": [
              "\n",
              "  <div id=\"df-357fcb72-def8-43e7-8b27-b0ade830a388\" class=\"colab-df-container\">\n",
              "    <div>\n",
              "<style scoped>\n",
              "    .dataframe tbody tr th:only-of-type {\n",
              "        vertical-align: middle;\n",
              "    }\n",
              "\n",
              "    .dataframe tbody tr th {\n",
              "        vertical-align: top;\n",
              "    }\n",
              "\n",
              "    .dataframe thead th {\n",
              "        text-align: right;\n",
              "    }\n",
              "</style>\n",
              "<table border=\"1\" class=\"dataframe\">\n",
              "  <thead>\n",
              "    <tr style=\"text-align: right;\">\n",
              "      <th></th>\n",
              "      <th>Campaign Name</th>\n",
              "      <th>Date</th>\n",
              "      <th>Spend [USD]</th>\n",
              "      <th># of Impressions</th>\n",
              "      <th>Reach</th>\n",
              "      <th># of Website Clicks</th>\n",
              "      <th># of Searches</th>\n",
              "      <th># of View Content</th>\n",
              "      <th># of Add to Cart</th>\n",
              "      <th># of Purchase</th>\n",
              "    </tr>\n",
              "  </thead>\n",
              "  <tbody>\n",
              "    <tr>\n",
              "      <th>0</th>\n",
              "      <td>Control Campaign</td>\n",
              "      <td>01.08.2019</td>\n",
              "      <td>2280</td>\n",
              "      <td>82702.0</td>\n",
              "      <td>56930.0</td>\n",
              "      <td>7016.0</td>\n",
              "      <td>2290.0</td>\n",
              "      <td>2159.0</td>\n",
              "      <td>1819.0</td>\n",
              "      <td>618.0</td>\n",
              "    </tr>\n",
              "    <tr>\n",
              "      <th>1</th>\n",
              "      <td>Control Campaign</td>\n",
              "      <td>02.08.2019</td>\n",
              "      <td>1757</td>\n",
              "      <td>121040.0</td>\n",
              "      <td>102513.0</td>\n",
              "      <td>8110.0</td>\n",
              "      <td>2033.0</td>\n",
              "      <td>1841.0</td>\n",
              "      <td>1219.0</td>\n",
              "      <td>511.0</td>\n",
              "    </tr>\n",
              "    <tr>\n",
              "      <th>2</th>\n",
              "      <td>Control Campaign</td>\n",
              "      <td>03.08.2019</td>\n",
              "      <td>2343</td>\n",
              "      <td>131711.0</td>\n",
              "      <td>110862.0</td>\n",
              "      <td>6508.0</td>\n",
              "      <td>1737.0</td>\n",
              "      <td>1549.0</td>\n",
              "      <td>1134.0</td>\n",
              "      <td>372.0</td>\n",
              "    </tr>\n",
              "    <tr>\n",
              "      <th>3</th>\n",
              "      <td>Control Campaign</td>\n",
              "      <td>04.08.2019</td>\n",
              "      <td>1940</td>\n",
              "      <td>72878.0</td>\n",
              "      <td>61235.0</td>\n",
              "      <td>3065.0</td>\n",
              "      <td>1042.0</td>\n",
              "      <td>982.0</td>\n",
              "      <td>1183.0</td>\n",
              "      <td>340.0</td>\n",
              "    </tr>\n",
              "    <tr>\n",
              "      <th>4</th>\n",
              "      <td>Control Campaign</td>\n",
              "      <td>05.08.2019</td>\n",
              "      <td>1835</td>\n",
              "      <td>NaN</td>\n",
              "      <td>NaN</td>\n",
              "      <td>NaN</td>\n",
              "      <td>NaN</td>\n",
              "      <td>NaN</td>\n",
              "      <td>NaN</td>\n",
              "      <td>NaN</td>\n",
              "    </tr>\n",
              "  </tbody>\n",
              "</table>\n",
              "</div>\n",
              "    <div class=\"colab-df-buttons\">\n",
              "\n",
              "  <div class=\"colab-df-container\">\n",
              "    <button class=\"colab-df-convert\" onclick=\"convertToInteractive('df-357fcb72-def8-43e7-8b27-b0ade830a388')\"\n",
              "            title=\"Convert this dataframe to an interactive table.\"\n",
              "            style=\"display:none;\">\n",
              "\n",
              "  <svg xmlns=\"http://www.w3.org/2000/svg\" height=\"24px\" viewBox=\"0 -960 960 960\">\n",
              "    <path d=\"M120-120v-720h720v720H120Zm60-500h600v-160H180v160Zm220 220h160v-160H400v160Zm0 220h160v-160H400v160ZM180-400h160v-160H180v160Zm440 0h160v-160H620v160ZM180-180h160v-160H180v160Zm440 0h160v-160H620v160Z\"/>\n",
              "  </svg>\n",
              "    </button>\n",
              "\n",
              "  <style>\n",
              "    .colab-df-container {\n",
              "      display:flex;\n",
              "      gap: 12px;\n",
              "    }\n",
              "\n",
              "    .colab-df-convert {\n",
              "      background-color: #E8F0FE;\n",
              "      border: none;\n",
              "      border-radius: 50%;\n",
              "      cursor: pointer;\n",
              "      display: none;\n",
              "      fill: #1967D2;\n",
              "      height: 32px;\n",
              "      padding: 0 0 0 0;\n",
              "      width: 32px;\n",
              "    }\n",
              "\n",
              "    .colab-df-convert:hover {\n",
              "      background-color: #E2EBFA;\n",
              "      box-shadow: 0px 1px 2px rgba(60, 64, 67, 0.3), 0px 1px 3px 1px rgba(60, 64, 67, 0.15);\n",
              "      fill: #174EA6;\n",
              "    }\n",
              "\n",
              "    .colab-df-buttons div {\n",
              "      margin-bottom: 4px;\n",
              "    }\n",
              "\n",
              "    [theme=dark] .colab-df-convert {\n",
              "      background-color: #3B4455;\n",
              "      fill: #D2E3FC;\n",
              "    }\n",
              "\n",
              "    [theme=dark] .colab-df-convert:hover {\n",
              "      background-color: #434B5C;\n",
              "      box-shadow: 0px 1px 3px 1px rgba(0, 0, 0, 0.15);\n",
              "      filter: drop-shadow(0px 1px 2px rgba(0, 0, 0, 0.3));\n",
              "      fill: #FFFFFF;\n",
              "    }\n",
              "  </style>\n",
              "\n",
              "    <script>\n",
              "      const buttonEl =\n",
              "        document.querySelector('#df-357fcb72-def8-43e7-8b27-b0ade830a388 button.colab-df-convert');\n",
              "      buttonEl.style.display =\n",
              "        google.colab.kernel.accessAllowed ? 'block' : 'none';\n",
              "\n",
              "      async function convertToInteractive(key) {\n",
              "        const element = document.querySelector('#df-357fcb72-def8-43e7-8b27-b0ade830a388');\n",
              "        const dataTable =\n",
              "          await google.colab.kernel.invokeFunction('convertToInteractive',\n",
              "                                                    [key], {});\n",
              "        if (!dataTable) return;\n",
              "\n",
              "        const docLinkHtml = 'Like what you see? Visit the ' +\n",
              "          '<a target=\"_blank\" href=https://colab.research.google.com/notebooks/data_table.ipynb>data table notebook</a>'\n",
              "          + ' to learn more about interactive tables.';\n",
              "        element.innerHTML = '';\n",
              "        dataTable['output_type'] = 'display_data';\n",
              "        await google.colab.output.renderOutput(dataTable, element);\n",
              "        const docLink = document.createElement('div');\n",
              "        docLink.innerHTML = docLinkHtml;\n",
              "        element.appendChild(docLink);\n",
              "      }\n",
              "    </script>\n",
              "  </div>\n",
              "\n",
              "\n",
              "    <div id=\"df-8645270a-3d50-4780-af56-f6a7e0cea2e9\">\n",
              "      <button class=\"colab-df-quickchart\" onclick=\"quickchart('df-8645270a-3d50-4780-af56-f6a7e0cea2e9')\"\n",
              "                title=\"Suggest charts\"\n",
              "                style=\"display:none;\">\n",
              "\n",
              "<svg xmlns=\"http://www.w3.org/2000/svg\" height=\"24px\"viewBox=\"0 0 24 24\"\n",
              "     width=\"24px\">\n",
              "    <g>\n",
              "        <path d=\"M19 3H5c-1.1 0-2 .9-2 2v14c0 1.1.9 2 2 2h14c1.1 0 2-.9 2-2V5c0-1.1-.9-2-2-2zM9 17H7v-7h2v7zm4 0h-2V7h2v10zm4 0h-2v-4h2v4z\"/>\n",
              "    </g>\n",
              "</svg>\n",
              "      </button>\n",
              "\n",
              "<style>\n",
              "  .colab-df-quickchart {\n",
              "      --bg-color: #E8F0FE;\n",
              "      --fill-color: #1967D2;\n",
              "      --hover-bg-color: #E2EBFA;\n",
              "      --hover-fill-color: #174EA6;\n",
              "      --disabled-fill-color: #AAA;\n",
              "      --disabled-bg-color: #DDD;\n",
              "  }\n",
              "\n",
              "  [theme=dark] .colab-df-quickchart {\n",
              "      --bg-color: #3B4455;\n",
              "      --fill-color: #D2E3FC;\n",
              "      --hover-bg-color: #434B5C;\n",
              "      --hover-fill-color: #FFFFFF;\n",
              "      --disabled-bg-color: #3B4455;\n",
              "      --disabled-fill-color: #666;\n",
              "  }\n",
              "\n",
              "  .colab-df-quickchart {\n",
              "    background-color: var(--bg-color);\n",
              "    border: none;\n",
              "    border-radius: 50%;\n",
              "    cursor: pointer;\n",
              "    display: none;\n",
              "    fill: var(--fill-color);\n",
              "    height: 32px;\n",
              "    padding: 0;\n",
              "    width: 32px;\n",
              "  }\n",
              "\n",
              "  .colab-df-quickchart:hover {\n",
              "    background-color: var(--hover-bg-color);\n",
              "    box-shadow: 0 1px 2px rgba(60, 64, 67, 0.3), 0 1px 3px 1px rgba(60, 64, 67, 0.15);\n",
              "    fill: var(--button-hover-fill-color);\n",
              "  }\n",
              "\n",
              "  .colab-df-quickchart-complete:disabled,\n",
              "  .colab-df-quickchart-complete:disabled:hover {\n",
              "    background-color: var(--disabled-bg-color);\n",
              "    fill: var(--disabled-fill-color);\n",
              "    box-shadow: none;\n",
              "  }\n",
              "\n",
              "  .colab-df-spinner {\n",
              "    border: 2px solid var(--fill-color);\n",
              "    border-color: transparent;\n",
              "    border-bottom-color: var(--fill-color);\n",
              "    animation:\n",
              "      spin 1s steps(1) infinite;\n",
              "  }\n",
              "\n",
              "  @keyframes spin {\n",
              "    0% {\n",
              "      border-color: transparent;\n",
              "      border-bottom-color: var(--fill-color);\n",
              "      border-left-color: var(--fill-color);\n",
              "    }\n",
              "    20% {\n",
              "      border-color: transparent;\n",
              "      border-left-color: var(--fill-color);\n",
              "      border-top-color: var(--fill-color);\n",
              "    }\n",
              "    30% {\n",
              "      border-color: transparent;\n",
              "      border-left-color: var(--fill-color);\n",
              "      border-top-color: var(--fill-color);\n",
              "      border-right-color: var(--fill-color);\n",
              "    }\n",
              "    40% {\n",
              "      border-color: transparent;\n",
              "      border-right-color: var(--fill-color);\n",
              "      border-top-color: var(--fill-color);\n",
              "    }\n",
              "    60% {\n",
              "      border-color: transparent;\n",
              "      border-right-color: var(--fill-color);\n",
              "    }\n",
              "    80% {\n",
              "      border-color: transparent;\n",
              "      border-right-color: var(--fill-color);\n",
              "      border-bottom-color: var(--fill-color);\n",
              "    }\n",
              "    90% {\n",
              "      border-color: transparent;\n",
              "      border-bottom-color: var(--fill-color);\n",
              "    }\n",
              "  }\n",
              "</style>\n",
              "\n",
              "      <script>\n",
              "        async function quickchart(key) {\n",
              "          const quickchartButtonEl =\n",
              "            document.querySelector('#' + key + ' button');\n",
              "          quickchartButtonEl.disabled = true;  // To prevent multiple clicks.\n",
              "          quickchartButtonEl.classList.add('colab-df-spinner');\n",
              "          try {\n",
              "            const charts = await google.colab.kernel.invokeFunction(\n",
              "                'suggestCharts', [key], {});\n",
              "          } catch (error) {\n",
              "            console.error('Error during call to suggestCharts:', error);\n",
              "          }\n",
              "          quickchartButtonEl.classList.remove('colab-df-spinner');\n",
              "          quickchartButtonEl.classList.add('colab-df-quickchart-complete');\n",
              "        }\n",
              "        (() => {\n",
              "          let quickchartButtonEl =\n",
              "            document.querySelector('#df-8645270a-3d50-4780-af56-f6a7e0cea2e9 button');\n",
              "          quickchartButtonEl.style.display =\n",
              "            google.colab.kernel.accessAllowed ? 'block' : 'none';\n",
              "        })();\n",
              "      </script>\n",
              "    </div>\n",
              "\n",
              "    </div>\n",
              "  </div>\n"
            ],
            "application/vnd.google.colaboratory.intrinsic+json": {
              "type": "dataframe",
              "variable_name": "control",
              "summary": "{\n  \"name\": \"control\",\n  \"rows\": 30,\n  \"fields\": [\n    {\n      \"column\": \"Campaign Name\",\n      \"properties\": {\n        \"dtype\": \"category\",\n        \"num_unique_values\": 1,\n        \"samples\": [\n          \"Control Campaign\"\n        ],\n        \"semantic_type\": \"\",\n        \"description\": \"\"\n      }\n    },\n    {\n      \"column\": \"Date\",\n      \"properties\": {\n        \"dtype\": \"string\",\n        \"num_unique_values\": 30,\n        \"samples\": [\n          \"28.08.2019\"\n        ],\n        \"semantic_type\": \"\",\n        \"description\": \"\"\n      }\n    },\n    {\n      \"column\": \"Spend [USD]\",\n      \"properties\": {\n        \"dtype\": \"number\",\n        \"std\": 367,\n        \"min\": 1757,\n        \"max\": 3083,\n        \"num_unique_values\": 30,\n        \"samples\": [\n          2421\n        ],\n        \"semantic_type\": \"\",\n        \"description\": \"\"\n      }\n    },\n    {\n      \"column\": \"# of Impressions\",\n      \"properties\": {\n        \"dtype\": \"number\",\n        \"std\": 21688.922907879514,\n        \"min\": 71274.0,\n        \"max\": 145248.0,\n        \"num_unique_values\": 29,\n        \"samples\": [\n          92029.0\n        ],\n        \"semantic_type\": \"\",\n        \"description\": \"\"\n      }\n    },\n    {\n      \"column\": \"Reach\",\n      \"properties\": {\n        \"dtype\": \"number\",\n        \"std\": 21832.349595318796,\n        \"min\": 42859.0,\n        \"max\": 127852.0,\n        \"num_unique_values\": 29,\n        \"samples\": [\n          74192.0\n        ],\n        \"semantic_type\": \"\",\n        \"description\": \"\"\n      }\n    },\n    {\n      \"column\": \"# of Website Clicks\",\n      \"properties\": {\n        \"dtype\": \"number\",\n        \"std\": 1757.369003029211,\n        \"min\": 2277.0,\n        \"max\": 8137.0,\n        \"num_unique_values\": 29,\n        \"samples\": [\n          8127.0\n        ],\n        \"semantic_type\": \"\",\n        \"description\": \"\"\n      }\n    },\n    {\n      \"column\": \"# of Searches\",\n      \"properties\": {\n        \"dtype\": \"number\",\n        \"std\": 866.0893678503669,\n        \"min\": 1001.0,\n        \"max\": 4891.0,\n        \"num_unique_values\": 29,\n        \"samples\": [\n          4891.0\n        ],\n        \"semantic_type\": \"\",\n        \"description\": \"\"\n      }\n    },\n    {\n      \"column\": \"# of View Content\",\n      \"properties\": {\n        \"dtype\": \"number\",\n        \"std\": 777.5454685515341,\n        \"min\": 848.0,\n        \"max\": 4219.0,\n        \"num_unique_values\": 26,\n        \"samples\": [\n          1984.0\n        ],\n        \"semantic_type\": \"\",\n        \"description\": \"\"\n      }\n    },\n    {\n      \"column\": \"# of Add to Cart\",\n      \"properties\": {\n        \"dtype\": \"number\",\n        \"std\": 407.45797329295203,\n        \"min\": 442.0,\n        \"max\": 1913.0,\n        \"num_unique_values\": 29,\n        \"samples\": [\n          1486.0\n        ],\n        \"semantic_type\": \"\",\n        \"description\": \"\"\n      }\n    },\n    {\n      \"column\": \"# of Purchase\",\n      \"properties\": {\n        \"dtype\": \"number\",\n        \"std\": 185.02864243723857,\n        \"min\": 222.0,\n        \"max\": 800.0,\n        \"num_unique_values\": 28,\n        \"samples\": [\n          475.0\n        ],\n        \"semantic_type\": \"\",\n        \"description\": \"\"\n      }\n    }\n  ]\n}"
            }
          },
          "metadata": {},
          "execution_count": 75
        }
      ]
    },
    {
      "cell_type": "code",
      "source": [
        "control.info()"
      ],
      "metadata": {
        "colab": {
          "base_uri": "https://localhost:8080/"
        },
        "id": "9fP4c4fzpveb",
        "outputId": "375a2068-14d3-4044-ddfa-c0d8876ada35"
      },
      "execution_count": 76,
      "outputs": [
        {
          "output_type": "stream",
          "name": "stdout",
          "text": [
            "<class 'pandas.core.frame.DataFrame'>\n",
            "RangeIndex: 30 entries, 0 to 29\n",
            "Data columns (total 10 columns):\n",
            " #   Column               Non-Null Count  Dtype  \n",
            "---  ------               --------------  -----  \n",
            " 0   Campaign Name        30 non-null     object \n",
            " 1   Date                 30 non-null     object \n",
            " 2   Spend [USD]          30 non-null     int64  \n",
            " 3   # of Impressions     29 non-null     float64\n",
            " 4   Reach                29 non-null     float64\n",
            " 5   # of Website Clicks  29 non-null     float64\n",
            " 6   # of Searches        29 non-null     float64\n",
            " 7   # of View Content    29 non-null     float64\n",
            " 8   # of Add to Cart     29 non-null     float64\n",
            " 9   # of Purchase        29 non-null     float64\n",
            "dtypes: float64(7), int64(1), object(2)\n",
            "memory usage: 2.5+ KB\n"
          ]
        }
      ]
    },
    {
      "cell_type": "code",
      "source": [
        "control.dropna(inplace=True)\n",
        "control.info()"
      ],
      "metadata": {
        "colab": {
          "base_uri": "https://localhost:8080/"
        },
        "id": "025IKYNip3En",
        "outputId": "2ed15ce6-cbb2-417f-b3a5-f8436f695957"
      },
      "execution_count": 77,
      "outputs": [
        {
          "output_type": "stream",
          "name": "stdout",
          "text": [
            "<class 'pandas.core.frame.DataFrame'>\n",
            "Index: 29 entries, 0 to 29\n",
            "Data columns (total 10 columns):\n",
            " #   Column               Non-Null Count  Dtype  \n",
            "---  ------               --------------  -----  \n",
            " 0   Campaign Name        29 non-null     object \n",
            " 1   Date                 29 non-null     object \n",
            " 2   Spend [USD]          29 non-null     int64  \n",
            " 3   # of Impressions     29 non-null     float64\n",
            " 4   Reach                29 non-null     float64\n",
            " 5   # of Website Clicks  29 non-null     float64\n",
            " 6   # of Searches        29 non-null     float64\n",
            " 7   # of View Content    29 non-null     float64\n",
            " 8   # of Add to Cart     29 non-null     float64\n",
            " 9   # of Purchase        29 non-null     float64\n",
            "dtypes: float64(7), int64(1), object(2)\n",
            "memory usage: 2.5+ KB\n"
          ]
        }
      ]
    },
    {
      "cell_type": "code",
      "source": [
        "test.head()"
      ],
      "metadata": {
        "colab": {
          "base_uri": "https://localhost:8080/",
          "height": 206
        },
        "id": "aqkraOYwol_E",
        "outputId": "fc45c02a-c7b6-4783-8d4c-b0c579183f90"
      },
      "execution_count": 78,
      "outputs": [
        {
          "output_type": "execute_result",
          "data": {
            "text/plain": [
              "   Campaign Name        Date  Spend [USD]  # of Impressions  Reach  \\\n",
              "0  Test Campaign  01.08.2019         3008             39550  35820   \n",
              "1  Test Campaign  02.08.2019         2542            100719  91236   \n",
              "2  Test Campaign  03.08.2019         2365             70263  45198   \n",
              "3  Test Campaign  04.08.2019         2710             78451  25937   \n",
              "4  Test Campaign  05.08.2019         2297            114295  95138   \n",
              "\n",
              "   # of Website Clicks  # of Searches  # of View Content  # of Add to Cart  \\\n",
              "0                 3038           1946               1069               894   \n",
              "1                 4657           2359               1548               879   \n",
              "2                 7885           2572               2367              1268   \n",
              "3                 4216           2216               1437               566   \n",
              "4                 5863           2106                858               956   \n",
              "\n",
              "   # of Purchase  \n",
              "0            255  \n",
              "1            677  \n",
              "2            578  \n",
              "3            340  \n",
              "4            768  "
            ],
            "text/html": [
              "\n",
              "  <div id=\"df-a975adc0-84b6-4277-80c9-89450e079a75\" class=\"colab-df-container\">\n",
              "    <div>\n",
              "<style scoped>\n",
              "    .dataframe tbody tr th:only-of-type {\n",
              "        vertical-align: middle;\n",
              "    }\n",
              "\n",
              "    .dataframe tbody tr th {\n",
              "        vertical-align: top;\n",
              "    }\n",
              "\n",
              "    .dataframe thead th {\n",
              "        text-align: right;\n",
              "    }\n",
              "</style>\n",
              "<table border=\"1\" class=\"dataframe\">\n",
              "  <thead>\n",
              "    <tr style=\"text-align: right;\">\n",
              "      <th></th>\n",
              "      <th>Campaign Name</th>\n",
              "      <th>Date</th>\n",
              "      <th>Spend [USD]</th>\n",
              "      <th># of Impressions</th>\n",
              "      <th>Reach</th>\n",
              "      <th># of Website Clicks</th>\n",
              "      <th># of Searches</th>\n",
              "      <th># of View Content</th>\n",
              "      <th># of Add to Cart</th>\n",
              "      <th># of Purchase</th>\n",
              "    </tr>\n",
              "  </thead>\n",
              "  <tbody>\n",
              "    <tr>\n",
              "      <th>0</th>\n",
              "      <td>Test Campaign</td>\n",
              "      <td>01.08.2019</td>\n",
              "      <td>3008</td>\n",
              "      <td>39550</td>\n",
              "      <td>35820</td>\n",
              "      <td>3038</td>\n",
              "      <td>1946</td>\n",
              "      <td>1069</td>\n",
              "      <td>894</td>\n",
              "      <td>255</td>\n",
              "    </tr>\n",
              "    <tr>\n",
              "      <th>1</th>\n",
              "      <td>Test Campaign</td>\n",
              "      <td>02.08.2019</td>\n",
              "      <td>2542</td>\n",
              "      <td>100719</td>\n",
              "      <td>91236</td>\n",
              "      <td>4657</td>\n",
              "      <td>2359</td>\n",
              "      <td>1548</td>\n",
              "      <td>879</td>\n",
              "      <td>677</td>\n",
              "    </tr>\n",
              "    <tr>\n",
              "      <th>2</th>\n",
              "      <td>Test Campaign</td>\n",
              "      <td>03.08.2019</td>\n",
              "      <td>2365</td>\n",
              "      <td>70263</td>\n",
              "      <td>45198</td>\n",
              "      <td>7885</td>\n",
              "      <td>2572</td>\n",
              "      <td>2367</td>\n",
              "      <td>1268</td>\n",
              "      <td>578</td>\n",
              "    </tr>\n",
              "    <tr>\n",
              "      <th>3</th>\n",
              "      <td>Test Campaign</td>\n",
              "      <td>04.08.2019</td>\n",
              "      <td>2710</td>\n",
              "      <td>78451</td>\n",
              "      <td>25937</td>\n",
              "      <td>4216</td>\n",
              "      <td>2216</td>\n",
              "      <td>1437</td>\n",
              "      <td>566</td>\n",
              "      <td>340</td>\n",
              "    </tr>\n",
              "    <tr>\n",
              "      <th>4</th>\n",
              "      <td>Test Campaign</td>\n",
              "      <td>05.08.2019</td>\n",
              "      <td>2297</td>\n",
              "      <td>114295</td>\n",
              "      <td>95138</td>\n",
              "      <td>5863</td>\n",
              "      <td>2106</td>\n",
              "      <td>858</td>\n",
              "      <td>956</td>\n",
              "      <td>768</td>\n",
              "    </tr>\n",
              "  </tbody>\n",
              "</table>\n",
              "</div>\n",
              "    <div class=\"colab-df-buttons\">\n",
              "\n",
              "  <div class=\"colab-df-container\">\n",
              "    <button class=\"colab-df-convert\" onclick=\"convertToInteractive('df-a975adc0-84b6-4277-80c9-89450e079a75')\"\n",
              "            title=\"Convert this dataframe to an interactive table.\"\n",
              "            style=\"display:none;\">\n",
              "\n",
              "  <svg xmlns=\"http://www.w3.org/2000/svg\" height=\"24px\" viewBox=\"0 -960 960 960\">\n",
              "    <path d=\"M120-120v-720h720v720H120Zm60-500h600v-160H180v160Zm220 220h160v-160H400v160Zm0 220h160v-160H400v160ZM180-400h160v-160H180v160Zm440 0h160v-160H620v160ZM180-180h160v-160H180v160Zm440 0h160v-160H620v160Z\"/>\n",
              "  </svg>\n",
              "    </button>\n",
              "\n",
              "  <style>\n",
              "    .colab-df-container {\n",
              "      display:flex;\n",
              "      gap: 12px;\n",
              "    }\n",
              "\n",
              "    .colab-df-convert {\n",
              "      background-color: #E8F0FE;\n",
              "      border: none;\n",
              "      border-radius: 50%;\n",
              "      cursor: pointer;\n",
              "      display: none;\n",
              "      fill: #1967D2;\n",
              "      height: 32px;\n",
              "      padding: 0 0 0 0;\n",
              "      width: 32px;\n",
              "    }\n",
              "\n",
              "    .colab-df-convert:hover {\n",
              "      background-color: #E2EBFA;\n",
              "      box-shadow: 0px 1px 2px rgba(60, 64, 67, 0.3), 0px 1px 3px 1px rgba(60, 64, 67, 0.15);\n",
              "      fill: #174EA6;\n",
              "    }\n",
              "\n",
              "    .colab-df-buttons div {\n",
              "      margin-bottom: 4px;\n",
              "    }\n",
              "\n",
              "    [theme=dark] .colab-df-convert {\n",
              "      background-color: #3B4455;\n",
              "      fill: #D2E3FC;\n",
              "    }\n",
              "\n",
              "    [theme=dark] .colab-df-convert:hover {\n",
              "      background-color: #434B5C;\n",
              "      box-shadow: 0px 1px 3px 1px rgba(0, 0, 0, 0.15);\n",
              "      filter: drop-shadow(0px 1px 2px rgba(0, 0, 0, 0.3));\n",
              "      fill: #FFFFFF;\n",
              "    }\n",
              "  </style>\n",
              "\n",
              "    <script>\n",
              "      const buttonEl =\n",
              "        document.querySelector('#df-a975adc0-84b6-4277-80c9-89450e079a75 button.colab-df-convert');\n",
              "      buttonEl.style.display =\n",
              "        google.colab.kernel.accessAllowed ? 'block' : 'none';\n",
              "\n",
              "      async function convertToInteractive(key) {\n",
              "        const element = document.querySelector('#df-a975adc0-84b6-4277-80c9-89450e079a75');\n",
              "        const dataTable =\n",
              "          await google.colab.kernel.invokeFunction('convertToInteractive',\n",
              "                                                    [key], {});\n",
              "        if (!dataTable) return;\n",
              "\n",
              "        const docLinkHtml = 'Like what you see? Visit the ' +\n",
              "          '<a target=\"_blank\" href=https://colab.research.google.com/notebooks/data_table.ipynb>data table notebook</a>'\n",
              "          + ' to learn more about interactive tables.';\n",
              "        element.innerHTML = '';\n",
              "        dataTable['output_type'] = 'display_data';\n",
              "        await google.colab.output.renderOutput(dataTable, element);\n",
              "        const docLink = document.createElement('div');\n",
              "        docLink.innerHTML = docLinkHtml;\n",
              "        element.appendChild(docLink);\n",
              "      }\n",
              "    </script>\n",
              "  </div>\n",
              "\n",
              "\n",
              "    <div id=\"df-9bb4e95e-459c-4896-97a5-a9c5a7b90757\">\n",
              "      <button class=\"colab-df-quickchart\" onclick=\"quickchart('df-9bb4e95e-459c-4896-97a5-a9c5a7b90757')\"\n",
              "                title=\"Suggest charts\"\n",
              "                style=\"display:none;\">\n",
              "\n",
              "<svg xmlns=\"http://www.w3.org/2000/svg\" height=\"24px\"viewBox=\"0 0 24 24\"\n",
              "     width=\"24px\">\n",
              "    <g>\n",
              "        <path d=\"M19 3H5c-1.1 0-2 .9-2 2v14c0 1.1.9 2 2 2h14c1.1 0 2-.9 2-2V5c0-1.1-.9-2-2-2zM9 17H7v-7h2v7zm4 0h-2V7h2v10zm4 0h-2v-4h2v4z\"/>\n",
              "    </g>\n",
              "</svg>\n",
              "      </button>\n",
              "\n",
              "<style>\n",
              "  .colab-df-quickchart {\n",
              "      --bg-color: #E8F0FE;\n",
              "      --fill-color: #1967D2;\n",
              "      --hover-bg-color: #E2EBFA;\n",
              "      --hover-fill-color: #174EA6;\n",
              "      --disabled-fill-color: #AAA;\n",
              "      --disabled-bg-color: #DDD;\n",
              "  }\n",
              "\n",
              "  [theme=dark] .colab-df-quickchart {\n",
              "      --bg-color: #3B4455;\n",
              "      --fill-color: #D2E3FC;\n",
              "      --hover-bg-color: #434B5C;\n",
              "      --hover-fill-color: #FFFFFF;\n",
              "      --disabled-bg-color: #3B4455;\n",
              "      --disabled-fill-color: #666;\n",
              "  }\n",
              "\n",
              "  .colab-df-quickchart {\n",
              "    background-color: var(--bg-color);\n",
              "    border: none;\n",
              "    border-radius: 50%;\n",
              "    cursor: pointer;\n",
              "    display: none;\n",
              "    fill: var(--fill-color);\n",
              "    height: 32px;\n",
              "    padding: 0;\n",
              "    width: 32px;\n",
              "  }\n",
              "\n",
              "  .colab-df-quickchart:hover {\n",
              "    background-color: var(--hover-bg-color);\n",
              "    box-shadow: 0 1px 2px rgba(60, 64, 67, 0.3), 0 1px 3px 1px rgba(60, 64, 67, 0.15);\n",
              "    fill: var(--button-hover-fill-color);\n",
              "  }\n",
              "\n",
              "  .colab-df-quickchart-complete:disabled,\n",
              "  .colab-df-quickchart-complete:disabled:hover {\n",
              "    background-color: var(--disabled-bg-color);\n",
              "    fill: var(--disabled-fill-color);\n",
              "    box-shadow: none;\n",
              "  }\n",
              "\n",
              "  .colab-df-spinner {\n",
              "    border: 2px solid var(--fill-color);\n",
              "    border-color: transparent;\n",
              "    border-bottom-color: var(--fill-color);\n",
              "    animation:\n",
              "      spin 1s steps(1) infinite;\n",
              "  }\n",
              "\n",
              "  @keyframes spin {\n",
              "    0% {\n",
              "      border-color: transparent;\n",
              "      border-bottom-color: var(--fill-color);\n",
              "      border-left-color: var(--fill-color);\n",
              "    }\n",
              "    20% {\n",
              "      border-color: transparent;\n",
              "      border-left-color: var(--fill-color);\n",
              "      border-top-color: var(--fill-color);\n",
              "    }\n",
              "    30% {\n",
              "      border-color: transparent;\n",
              "      border-left-color: var(--fill-color);\n",
              "      border-top-color: var(--fill-color);\n",
              "      border-right-color: var(--fill-color);\n",
              "    }\n",
              "    40% {\n",
              "      border-color: transparent;\n",
              "      border-right-color: var(--fill-color);\n",
              "      border-top-color: var(--fill-color);\n",
              "    }\n",
              "    60% {\n",
              "      border-color: transparent;\n",
              "      border-right-color: var(--fill-color);\n",
              "    }\n",
              "    80% {\n",
              "      border-color: transparent;\n",
              "      border-right-color: var(--fill-color);\n",
              "      border-bottom-color: var(--fill-color);\n",
              "    }\n",
              "    90% {\n",
              "      border-color: transparent;\n",
              "      border-bottom-color: var(--fill-color);\n",
              "    }\n",
              "  }\n",
              "</style>\n",
              "\n",
              "      <script>\n",
              "        async function quickchart(key) {\n",
              "          const quickchartButtonEl =\n",
              "            document.querySelector('#' + key + ' button');\n",
              "          quickchartButtonEl.disabled = true;  // To prevent multiple clicks.\n",
              "          quickchartButtonEl.classList.add('colab-df-spinner');\n",
              "          try {\n",
              "            const charts = await google.colab.kernel.invokeFunction(\n",
              "                'suggestCharts', [key], {});\n",
              "          } catch (error) {\n",
              "            console.error('Error during call to suggestCharts:', error);\n",
              "          }\n",
              "          quickchartButtonEl.classList.remove('colab-df-spinner');\n",
              "          quickchartButtonEl.classList.add('colab-df-quickchart-complete');\n",
              "        }\n",
              "        (() => {\n",
              "          let quickchartButtonEl =\n",
              "            document.querySelector('#df-9bb4e95e-459c-4896-97a5-a9c5a7b90757 button');\n",
              "          quickchartButtonEl.style.display =\n",
              "            google.colab.kernel.accessAllowed ? 'block' : 'none';\n",
              "        })();\n",
              "      </script>\n",
              "    </div>\n",
              "\n",
              "    </div>\n",
              "  </div>\n"
            ],
            "application/vnd.google.colaboratory.intrinsic+json": {
              "type": "dataframe",
              "variable_name": "test",
              "summary": "{\n  \"name\": \"test\",\n  \"rows\": 30,\n  \"fields\": [\n    {\n      \"column\": \"Campaign Name\",\n      \"properties\": {\n        \"dtype\": \"category\",\n        \"num_unique_values\": 1,\n        \"samples\": [\n          \"Test Campaign\"\n        ],\n        \"semantic_type\": \"\",\n        \"description\": \"\"\n      }\n    },\n    {\n      \"column\": \"Date\",\n      \"properties\": {\n        \"dtype\": \"string\",\n        \"num_unique_values\": 30,\n        \"samples\": [\n          \"28.08.2019\"\n        ],\n        \"semantic_type\": \"\",\n        \"description\": \"\"\n      }\n    },\n    {\n      \"column\": \"Spend [USD]\",\n      \"properties\": {\n        \"dtype\": \"number\",\n        \"std\": 348,\n        \"min\": 1968,\n        \"max\": 3112,\n        \"num_unique_values\": 30,\n        \"samples\": [\n          2247\n        ],\n        \"semantic_type\": \"\",\n        \"description\": \"\"\n      }\n    },\n    {\n      \"column\": \"# of Impressions\",\n      \"properties\": {\n        \"dtype\": \"number\",\n        \"std\": 32121,\n        \"min\": 22521,\n        \"max\": 133771,\n        \"num_unique_values\": 30,\n        \"samples\": [\n          54627\n        ],\n        \"semantic_type\": \"\",\n        \"description\": \"\"\n      }\n    },\n    {\n      \"column\": \"Reach\",\n      \"properties\": {\n        \"dtype\": \"number\",\n        \"std\": 28795,\n        \"min\": 10598,\n        \"max\": 109834,\n        \"num_unique_values\": 30,\n        \"samples\": [\n          41267\n        ],\n        \"semantic_type\": \"\",\n        \"description\": \"\"\n      }\n    },\n    {\n      \"column\": \"# of Website Clicks\",\n      \"properties\": {\n        \"dtype\": \"number\",\n        \"std\": 1708,\n        \"min\": 3038,\n        \"max\": 8264,\n        \"num_unique_values\": 30,\n        \"samples\": [\n          8144\n        ],\n        \"semantic_type\": \"\",\n        \"description\": \"\"\n      }\n    },\n    {\n      \"column\": \"# of Searches\",\n      \"properties\": {\n        \"dtype\": \"number\",\n        \"std\": 388,\n        \"min\": 1854,\n        \"max\": 2978,\n        \"num_unique_values\": 29,\n        \"samples\": [\n          1920\n        ],\n        \"semantic_type\": \"\",\n        \"description\": \"\"\n      }\n    },\n    {\n      \"column\": \"# of View Content\",\n      \"properties\": {\n        \"dtype\": \"number\",\n        \"std\": 597,\n        \"min\": 858,\n        \"max\": 2801,\n        \"num_unique_values\": 30,\n        \"samples\": [\n          1281\n        ],\n        \"semantic_type\": \"\",\n        \"description\": \"\"\n      }\n    },\n    {\n      \"column\": \"# of Add to Cart\",\n      \"properties\": {\n        \"dtype\": \"number\",\n        \"std\": 347,\n        \"min\": 278,\n        \"max\": 1391,\n        \"num_unique_values\": 30,\n        \"samples\": [\n          1009\n        ],\n        \"semantic_type\": \"\",\n        \"description\": \"\"\n      }\n    },\n    {\n      \"column\": \"# of Purchase\",\n      \"properties\": {\n        \"dtype\": \"number\",\n        \"std\": 211,\n        \"min\": 238,\n        \"max\": 890,\n        \"num_unique_values\": 28,\n        \"samples\": [\n          275\n        ],\n        \"semantic_type\": \"\",\n        \"description\": \"\"\n      }\n    }\n  ]\n}"
            }
          },
          "metadata": {},
          "execution_count": 78
        }
      ]
    },
    {
      "cell_type": "code",
      "source": [
        "test.info()"
      ],
      "metadata": {
        "colab": {
          "base_uri": "https://localhost:8080/"
        },
        "id": "Igzx9l2sp0Wp",
        "outputId": "d767bd35-e897-4820-f141-7af4821324b0"
      },
      "execution_count": 79,
      "outputs": [
        {
          "output_type": "stream",
          "name": "stdout",
          "text": [
            "<class 'pandas.core.frame.DataFrame'>\n",
            "RangeIndex: 30 entries, 0 to 29\n",
            "Data columns (total 10 columns):\n",
            " #   Column               Non-Null Count  Dtype \n",
            "---  ------               --------------  ----- \n",
            " 0   Campaign Name        30 non-null     object\n",
            " 1   Date                 30 non-null     object\n",
            " 2   Spend [USD]          30 non-null     int64 \n",
            " 3   # of Impressions     30 non-null     int64 \n",
            " 4   Reach                30 non-null     int64 \n",
            " 5   # of Website Clicks  30 non-null     int64 \n",
            " 6   # of Searches        30 non-null     int64 \n",
            " 7   # of View Content    30 non-null     int64 \n",
            " 8   # of Add to Cart     30 non-null     int64 \n",
            " 9   # of Purchase        30 non-null     int64 \n",
            "dtypes: int64(8), object(2)\n",
            "memory usage: 2.5+ KB\n"
          ]
        }
      ]
    },
    {
      "cell_type": "markdown",
      "source": [
        "# A/B-testing"
      ],
      "metadata": {
        "id": "8Ie6m-J2Gv_e"
      }
    },
    {
      "cell_type": "markdown",
      "source": [
        "## Preparation for the test"
      ],
      "metadata": {
        "id": "f3kR2Q5aKlPo"
      }
    },
    {
      "cell_type": "markdown",
      "source": [
        "In this step, we define a function to calculate key performance metrics for both test and control groups. These metrics include:\n",
        "\n",
        "1. Conversion Rate = Purchases / Website Clicks\n",
        "\n",
        "  The Conversion Rate measures the percentage of website visitors who complete a desired action, typically making a purchase. It is calculated by dividing the number of purchases by the number of website clicks.\n",
        "\n",
        "2. CTR (Click-Through Rate) = Website Clicks / Impressions\n",
        "\n",
        "  The Click-Through Rate measures the percentage of people who click on an ad or a link compared to the total number of impressions (views of the ad or link). It is calculated by dividing the number of website clicks by the number of impressions.\n",
        "\n",
        "3. CPA (Cost per Acquisition) = Spend / Purchases\n",
        "\n",
        "  The Cost per Acquisition measures how much it costs to acquire one customer through a specific marketing campaign. It is calculated by dividing the total spend on the campaign by the number of purchases made.\n",
        "\n",
        "4. Add to Cart Rate = Add to Cart / View Content\n",
        "\n",
        "  The Add to Cart Rate measures the percentage of visitors who add items to their shopping cart compared to those who view the product pages. It is calculated by dividing the number of \"Add to Cart\" actions by the number of \"View Content\" (product page views).\n",
        "\n",
        "We apply this function to both datasets and preview the results."
      ],
      "metadata": {
        "id": "UDF1MFwNV2SP"
      }
    },
    {
      "cell_type": "code",
      "source": [
        "def calculate_metrics(df):\n",
        "    metrics = pd.DataFrame()\n",
        "    metrics['conversion_rate'] = df['# of Purchase'] / df['# of Website Clicks']\n",
        "    metrics['ctr'] = df['# of Website Clicks'] / df['# of Impressions']\n",
        "    metrics['cpa'] = df['Spend [USD]'] / df['# of Purchase']\n",
        "    metrics['add_to_cart_rate'] = df['# of Add to Cart'] / df['# of View Content']\n",
        "    return metrics\n",
        "\n",
        "test_metrics = calculate_metrics(test)\n",
        "control_metrics = calculate_metrics(control)\n",
        "test_metrics.head()"
      ],
      "metadata": {
        "colab": {
          "base_uri": "https://localhost:8080/",
          "height": 206
        },
        "id": "1NKUZuXgKkkF",
        "outputId": "c705b82d-81ea-4f48-dd0e-c244ca41ec33"
      },
      "execution_count": 80,
      "outputs": [
        {
          "output_type": "execute_result",
          "data": {
            "text/plain": [
              "   conversion_rate       ctr        cpa  add_to_cart_rate\n",
              "0         0.083937  0.076814  11.796078          0.836296\n",
              "1         0.145373  0.046238   3.754801          0.567829\n",
              "2         0.073304  0.112221   4.091696          0.535699\n",
              "3         0.080645  0.053741   7.970588          0.393876\n",
              "4         0.130991  0.051297   2.990885          1.114219"
            ],
            "text/html": [
              "\n",
              "  <div id=\"df-40d89d1f-461b-415e-b36c-3dcaf232955e\" class=\"colab-df-container\">\n",
              "    <div>\n",
              "<style scoped>\n",
              "    .dataframe tbody tr th:only-of-type {\n",
              "        vertical-align: middle;\n",
              "    }\n",
              "\n",
              "    .dataframe tbody tr th {\n",
              "        vertical-align: top;\n",
              "    }\n",
              "\n",
              "    .dataframe thead th {\n",
              "        text-align: right;\n",
              "    }\n",
              "</style>\n",
              "<table border=\"1\" class=\"dataframe\">\n",
              "  <thead>\n",
              "    <tr style=\"text-align: right;\">\n",
              "      <th></th>\n",
              "      <th>conversion_rate</th>\n",
              "      <th>ctr</th>\n",
              "      <th>cpa</th>\n",
              "      <th>add_to_cart_rate</th>\n",
              "    </tr>\n",
              "  </thead>\n",
              "  <tbody>\n",
              "    <tr>\n",
              "      <th>0</th>\n",
              "      <td>0.083937</td>\n",
              "      <td>0.076814</td>\n",
              "      <td>11.796078</td>\n",
              "      <td>0.836296</td>\n",
              "    </tr>\n",
              "    <tr>\n",
              "      <th>1</th>\n",
              "      <td>0.145373</td>\n",
              "      <td>0.046238</td>\n",
              "      <td>3.754801</td>\n",
              "      <td>0.567829</td>\n",
              "    </tr>\n",
              "    <tr>\n",
              "      <th>2</th>\n",
              "      <td>0.073304</td>\n",
              "      <td>0.112221</td>\n",
              "      <td>4.091696</td>\n",
              "      <td>0.535699</td>\n",
              "    </tr>\n",
              "    <tr>\n",
              "      <th>3</th>\n",
              "      <td>0.080645</td>\n",
              "      <td>0.053741</td>\n",
              "      <td>7.970588</td>\n",
              "      <td>0.393876</td>\n",
              "    </tr>\n",
              "    <tr>\n",
              "      <th>4</th>\n",
              "      <td>0.130991</td>\n",
              "      <td>0.051297</td>\n",
              "      <td>2.990885</td>\n",
              "      <td>1.114219</td>\n",
              "    </tr>\n",
              "  </tbody>\n",
              "</table>\n",
              "</div>\n",
              "    <div class=\"colab-df-buttons\">\n",
              "\n",
              "  <div class=\"colab-df-container\">\n",
              "    <button class=\"colab-df-convert\" onclick=\"convertToInteractive('df-40d89d1f-461b-415e-b36c-3dcaf232955e')\"\n",
              "            title=\"Convert this dataframe to an interactive table.\"\n",
              "            style=\"display:none;\">\n",
              "\n",
              "  <svg xmlns=\"http://www.w3.org/2000/svg\" height=\"24px\" viewBox=\"0 -960 960 960\">\n",
              "    <path d=\"M120-120v-720h720v720H120Zm60-500h600v-160H180v160Zm220 220h160v-160H400v160Zm0 220h160v-160H400v160ZM180-400h160v-160H180v160Zm440 0h160v-160H620v160ZM180-180h160v-160H180v160Zm440 0h160v-160H620v160Z\"/>\n",
              "  </svg>\n",
              "    </button>\n",
              "\n",
              "  <style>\n",
              "    .colab-df-container {\n",
              "      display:flex;\n",
              "      gap: 12px;\n",
              "    }\n",
              "\n",
              "    .colab-df-convert {\n",
              "      background-color: #E8F0FE;\n",
              "      border: none;\n",
              "      border-radius: 50%;\n",
              "      cursor: pointer;\n",
              "      display: none;\n",
              "      fill: #1967D2;\n",
              "      height: 32px;\n",
              "      padding: 0 0 0 0;\n",
              "      width: 32px;\n",
              "    }\n",
              "\n",
              "    .colab-df-convert:hover {\n",
              "      background-color: #E2EBFA;\n",
              "      box-shadow: 0px 1px 2px rgba(60, 64, 67, 0.3), 0px 1px 3px 1px rgba(60, 64, 67, 0.15);\n",
              "      fill: #174EA6;\n",
              "    }\n",
              "\n",
              "    .colab-df-buttons div {\n",
              "      margin-bottom: 4px;\n",
              "    }\n",
              "\n",
              "    [theme=dark] .colab-df-convert {\n",
              "      background-color: #3B4455;\n",
              "      fill: #D2E3FC;\n",
              "    }\n",
              "\n",
              "    [theme=dark] .colab-df-convert:hover {\n",
              "      background-color: #434B5C;\n",
              "      box-shadow: 0px 1px 3px 1px rgba(0, 0, 0, 0.15);\n",
              "      filter: drop-shadow(0px 1px 2px rgba(0, 0, 0, 0.3));\n",
              "      fill: #FFFFFF;\n",
              "    }\n",
              "  </style>\n",
              "\n",
              "    <script>\n",
              "      const buttonEl =\n",
              "        document.querySelector('#df-40d89d1f-461b-415e-b36c-3dcaf232955e button.colab-df-convert');\n",
              "      buttonEl.style.display =\n",
              "        google.colab.kernel.accessAllowed ? 'block' : 'none';\n",
              "\n",
              "      async function convertToInteractive(key) {\n",
              "        const element = document.querySelector('#df-40d89d1f-461b-415e-b36c-3dcaf232955e');\n",
              "        const dataTable =\n",
              "          await google.colab.kernel.invokeFunction('convertToInteractive',\n",
              "                                                    [key], {});\n",
              "        if (!dataTable) return;\n",
              "\n",
              "        const docLinkHtml = 'Like what you see? Visit the ' +\n",
              "          '<a target=\"_blank\" href=https://colab.research.google.com/notebooks/data_table.ipynb>data table notebook</a>'\n",
              "          + ' to learn more about interactive tables.';\n",
              "        element.innerHTML = '';\n",
              "        dataTable['output_type'] = 'display_data';\n",
              "        await google.colab.output.renderOutput(dataTable, element);\n",
              "        const docLink = document.createElement('div');\n",
              "        docLink.innerHTML = docLinkHtml;\n",
              "        element.appendChild(docLink);\n",
              "      }\n",
              "    </script>\n",
              "  </div>\n",
              "\n",
              "\n",
              "    <div id=\"df-dc777ab8-7958-48c5-9561-6203b5355a59\">\n",
              "      <button class=\"colab-df-quickchart\" onclick=\"quickchart('df-dc777ab8-7958-48c5-9561-6203b5355a59')\"\n",
              "                title=\"Suggest charts\"\n",
              "                style=\"display:none;\">\n",
              "\n",
              "<svg xmlns=\"http://www.w3.org/2000/svg\" height=\"24px\"viewBox=\"0 0 24 24\"\n",
              "     width=\"24px\">\n",
              "    <g>\n",
              "        <path d=\"M19 3H5c-1.1 0-2 .9-2 2v14c0 1.1.9 2 2 2h14c1.1 0 2-.9 2-2V5c0-1.1-.9-2-2-2zM9 17H7v-7h2v7zm4 0h-2V7h2v10zm4 0h-2v-4h2v4z\"/>\n",
              "    </g>\n",
              "</svg>\n",
              "      </button>\n",
              "\n",
              "<style>\n",
              "  .colab-df-quickchart {\n",
              "      --bg-color: #E8F0FE;\n",
              "      --fill-color: #1967D2;\n",
              "      --hover-bg-color: #E2EBFA;\n",
              "      --hover-fill-color: #174EA6;\n",
              "      --disabled-fill-color: #AAA;\n",
              "      --disabled-bg-color: #DDD;\n",
              "  }\n",
              "\n",
              "  [theme=dark] .colab-df-quickchart {\n",
              "      --bg-color: #3B4455;\n",
              "      --fill-color: #D2E3FC;\n",
              "      --hover-bg-color: #434B5C;\n",
              "      --hover-fill-color: #FFFFFF;\n",
              "      --disabled-bg-color: #3B4455;\n",
              "      --disabled-fill-color: #666;\n",
              "  }\n",
              "\n",
              "  .colab-df-quickchart {\n",
              "    background-color: var(--bg-color);\n",
              "    border: none;\n",
              "    border-radius: 50%;\n",
              "    cursor: pointer;\n",
              "    display: none;\n",
              "    fill: var(--fill-color);\n",
              "    height: 32px;\n",
              "    padding: 0;\n",
              "    width: 32px;\n",
              "  }\n",
              "\n",
              "  .colab-df-quickchart:hover {\n",
              "    background-color: var(--hover-bg-color);\n",
              "    box-shadow: 0 1px 2px rgba(60, 64, 67, 0.3), 0 1px 3px 1px rgba(60, 64, 67, 0.15);\n",
              "    fill: var(--button-hover-fill-color);\n",
              "  }\n",
              "\n",
              "  .colab-df-quickchart-complete:disabled,\n",
              "  .colab-df-quickchart-complete:disabled:hover {\n",
              "    background-color: var(--disabled-bg-color);\n",
              "    fill: var(--disabled-fill-color);\n",
              "    box-shadow: none;\n",
              "  }\n",
              "\n",
              "  .colab-df-spinner {\n",
              "    border: 2px solid var(--fill-color);\n",
              "    border-color: transparent;\n",
              "    border-bottom-color: var(--fill-color);\n",
              "    animation:\n",
              "      spin 1s steps(1) infinite;\n",
              "  }\n",
              "\n",
              "  @keyframes spin {\n",
              "    0% {\n",
              "      border-color: transparent;\n",
              "      border-bottom-color: var(--fill-color);\n",
              "      border-left-color: var(--fill-color);\n",
              "    }\n",
              "    20% {\n",
              "      border-color: transparent;\n",
              "      border-left-color: var(--fill-color);\n",
              "      border-top-color: var(--fill-color);\n",
              "    }\n",
              "    30% {\n",
              "      border-color: transparent;\n",
              "      border-left-color: var(--fill-color);\n",
              "      border-top-color: var(--fill-color);\n",
              "      border-right-color: var(--fill-color);\n",
              "    }\n",
              "    40% {\n",
              "      border-color: transparent;\n",
              "      border-right-color: var(--fill-color);\n",
              "      border-top-color: var(--fill-color);\n",
              "    }\n",
              "    60% {\n",
              "      border-color: transparent;\n",
              "      border-right-color: var(--fill-color);\n",
              "    }\n",
              "    80% {\n",
              "      border-color: transparent;\n",
              "      border-right-color: var(--fill-color);\n",
              "      border-bottom-color: var(--fill-color);\n",
              "    }\n",
              "    90% {\n",
              "      border-color: transparent;\n",
              "      border-bottom-color: var(--fill-color);\n",
              "    }\n",
              "  }\n",
              "</style>\n",
              "\n",
              "      <script>\n",
              "        async function quickchart(key) {\n",
              "          const quickchartButtonEl =\n",
              "            document.querySelector('#' + key + ' button');\n",
              "          quickchartButtonEl.disabled = true;  // To prevent multiple clicks.\n",
              "          quickchartButtonEl.classList.add('colab-df-spinner');\n",
              "          try {\n",
              "            const charts = await google.colab.kernel.invokeFunction(\n",
              "                'suggestCharts', [key], {});\n",
              "          } catch (error) {\n",
              "            console.error('Error during call to suggestCharts:', error);\n",
              "          }\n",
              "          quickchartButtonEl.classList.remove('colab-df-spinner');\n",
              "          quickchartButtonEl.classList.add('colab-df-quickchart-complete');\n",
              "        }\n",
              "        (() => {\n",
              "          let quickchartButtonEl =\n",
              "            document.querySelector('#df-dc777ab8-7958-48c5-9561-6203b5355a59 button');\n",
              "          quickchartButtonEl.style.display =\n",
              "            google.colab.kernel.accessAllowed ? 'block' : 'none';\n",
              "        })();\n",
              "      </script>\n",
              "    </div>\n",
              "\n",
              "    </div>\n",
              "  </div>\n"
            ],
            "application/vnd.google.colaboratory.intrinsic+json": {
              "type": "dataframe",
              "variable_name": "test_metrics",
              "summary": "{\n  \"name\": \"test_metrics\",\n  \"rows\": 30,\n  \"fields\": [\n    {\n      \"column\": \"conversion_rate\",\n      \"properties\": {\n        \"dtype\": \"number\",\n        \"std\": 0.044489869584820825,\n        \"min\": 0.03008849557522124,\n        \"max\": 0.21085050935797203,\n        \"num_unique_values\": 30,\n        \"samples\": [\n          0.08853143418467584,\n          0.07161764705882354,\n          0.03759083286752376\n        ],\n        \"semantic_type\": \"\",\n        \"description\": \"\"\n      }\n    },\n    {\n      \"column\": \"ctr\",\n      \"properties\": {\n        \"dtype\": \"number\",\n        \"std\": 0.06770897225731778,\n        \"min\": 0.02982351380042463,\n        \"max\": 0.3382176635140535,\n        \"num_unique_values\": 30,\n        \"samples\": [\n          0.1490837864059897,\n          0.0637994445695414,\n          0.19525238744884038\n        ],\n        \"semantic_type\": \"\",\n        \"description\": \"\"\n      }\n    },\n    {\n      \"column\": \"cpa\",\n      \"properties\": {\n        \"dtype\": \"number\",\n        \"std\": 2.800765631562112,\n        \"min\": 2.4285714285714284,\n        \"max\": 12.70204081632653,\n        \"num_unique_values\": 30,\n        \"samples\": [\n          3.116504854368932,\n          6.316221765913758,\n          7.724907063197026\n        ],\n        \"semantic_type\": \"\",\n        \"description\": \"\"\n      }\n    },\n    {\n      \"column\": \"add_to_cart_rate\",\n      \"properties\": {\n        \"dtype\": \"number\",\n        \"std\": 0.2450262852987482,\n        \"min\": 0.13473423980222496,\n        \"max\": 1.1142191142191142,\n        \"num_unique_values\": 30,\n        \"samples\": [\n          0.7876658860265418,\n          0.4082498072474942,\n          0.13473423980222496\n        ],\n        \"semantic_type\": \"\",\n        \"description\": \"\"\n      }\n    }\n  ]\n}"
            }
          },
          "metadata": {},
          "execution_count": 80
        }
      ]
    },
    {
      "cell_type": "code",
      "source": [
        "control_metrics.head()"
      ],
      "metadata": {
        "colab": {
          "base_uri": "https://localhost:8080/",
          "height": 206
        },
        "id": "TyJEl6ByMZcn",
        "outputId": "6f1de1de-c8a7-49f9-9947-c6bd9196d151"
      },
      "execution_count": 81,
      "outputs": [
        {
          "output_type": "execute_result",
          "data": {
            "text/plain": [
              "   conversion_rate       ctr       cpa  add_to_cart_rate\n",
              "0         0.088084  0.084835  3.689320          0.842520\n",
              "1         0.063009  0.067003  3.438356          0.662140\n",
              "2         0.057160  0.049411  6.298387          0.732085\n",
              "3         0.110930  0.042057  5.705882          1.204684\n",
              "5         0.189672  0.036928  4.035340          0.627702"
            ],
            "text/html": [
              "\n",
              "  <div id=\"df-70322fb2-02c4-4b27-bb67-863c5c1b457a\" class=\"colab-df-container\">\n",
              "    <div>\n",
              "<style scoped>\n",
              "    .dataframe tbody tr th:only-of-type {\n",
              "        vertical-align: middle;\n",
              "    }\n",
              "\n",
              "    .dataframe tbody tr th {\n",
              "        vertical-align: top;\n",
              "    }\n",
              "\n",
              "    .dataframe thead th {\n",
              "        text-align: right;\n",
              "    }\n",
              "</style>\n",
              "<table border=\"1\" class=\"dataframe\">\n",
              "  <thead>\n",
              "    <tr style=\"text-align: right;\">\n",
              "      <th></th>\n",
              "      <th>conversion_rate</th>\n",
              "      <th>ctr</th>\n",
              "      <th>cpa</th>\n",
              "      <th>add_to_cart_rate</th>\n",
              "    </tr>\n",
              "  </thead>\n",
              "  <tbody>\n",
              "    <tr>\n",
              "      <th>0</th>\n",
              "      <td>0.088084</td>\n",
              "      <td>0.084835</td>\n",
              "      <td>3.689320</td>\n",
              "      <td>0.842520</td>\n",
              "    </tr>\n",
              "    <tr>\n",
              "      <th>1</th>\n",
              "      <td>0.063009</td>\n",
              "      <td>0.067003</td>\n",
              "      <td>3.438356</td>\n",
              "      <td>0.662140</td>\n",
              "    </tr>\n",
              "    <tr>\n",
              "      <th>2</th>\n",
              "      <td>0.057160</td>\n",
              "      <td>0.049411</td>\n",
              "      <td>6.298387</td>\n",
              "      <td>0.732085</td>\n",
              "    </tr>\n",
              "    <tr>\n",
              "      <th>3</th>\n",
              "      <td>0.110930</td>\n",
              "      <td>0.042057</td>\n",
              "      <td>5.705882</td>\n",
              "      <td>1.204684</td>\n",
              "    </tr>\n",
              "    <tr>\n",
              "      <th>5</th>\n",
              "      <td>0.189672</td>\n",
              "      <td>0.036928</td>\n",
              "      <td>4.035340</td>\n",
              "      <td>0.627702</td>\n",
              "    </tr>\n",
              "  </tbody>\n",
              "</table>\n",
              "</div>\n",
              "    <div class=\"colab-df-buttons\">\n",
              "\n",
              "  <div class=\"colab-df-container\">\n",
              "    <button class=\"colab-df-convert\" onclick=\"convertToInteractive('df-70322fb2-02c4-4b27-bb67-863c5c1b457a')\"\n",
              "            title=\"Convert this dataframe to an interactive table.\"\n",
              "            style=\"display:none;\">\n",
              "\n",
              "  <svg xmlns=\"http://www.w3.org/2000/svg\" height=\"24px\" viewBox=\"0 -960 960 960\">\n",
              "    <path d=\"M120-120v-720h720v720H120Zm60-500h600v-160H180v160Zm220 220h160v-160H400v160Zm0 220h160v-160H400v160ZM180-400h160v-160H180v160Zm440 0h160v-160H620v160ZM180-180h160v-160H180v160Zm440 0h160v-160H620v160Z\"/>\n",
              "  </svg>\n",
              "    </button>\n",
              "\n",
              "  <style>\n",
              "    .colab-df-container {\n",
              "      display:flex;\n",
              "      gap: 12px;\n",
              "    }\n",
              "\n",
              "    .colab-df-convert {\n",
              "      background-color: #E8F0FE;\n",
              "      border: none;\n",
              "      border-radius: 50%;\n",
              "      cursor: pointer;\n",
              "      display: none;\n",
              "      fill: #1967D2;\n",
              "      height: 32px;\n",
              "      padding: 0 0 0 0;\n",
              "      width: 32px;\n",
              "    }\n",
              "\n",
              "    .colab-df-convert:hover {\n",
              "      background-color: #E2EBFA;\n",
              "      box-shadow: 0px 1px 2px rgba(60, 64, 67, 0.3), 0px 1px 3px 1px rgba(60, 64, 67, 0.15);\n",
              "      fill: #174EA6;\n",
              "    }\n",
              "\n",
              "    .colab-df-buttons div {\n",
              "      margin-bottom: 4px;\n",
              "    }\n",
              "\n",
              "    [theme=dark] .colab-df-convert {\n",
              "      background-color: #3B4455;\n",
              "      fill: #D2E3FC;\n",
              "    }\n",
              "\n",
              "    [theme=dark] .colab-df-convert:hover {\n",
              "      background-color: #434B5C;\n",
              "      box-shadow: 0px 1px 3px 1px rgba(0, 0, 0, 0.15);\n",
              "      filter: drop-shadow(0px 1px 2px rgba(0, 0, 0, 0.3));\n",
              "      fill: #FFFFFF;\n",
              "    }\n",
              "  </style>\n",
              "\n",
              "    <script>\n",
              "      const buttonEl =\n",
              "        document.querySelector('#df-70322fb2-02c4-4b27-bb67-863c5c1b457a button.colab-df-convert');\n",
              "      buttonEl.style.display =\n",
              "        google.colab.kernel.accessAllowed ? 'block' : 'none';\n",
              "\n",
              "      async function convertToInteractive(key) {\n",
              "        const element = document.querySelector('#df-70322fb2-02c4-4b27-bb67-863c5c1b457a');\n",
              "        const dataTable =\n",
              "          await google.colab.kernel.invokeFunction('convertToInteractive',\n",
              "                                                    [key], {});\n",
              "        if (!dataTable) return;\n",
              "\n",
              "        const docLinkHtml = 'Like what you see? Visit the ' +\n",
              "          '<a target=\"_blank\" href=https://colab.research.google.com/notebooks/data_table.ipynb>data table notebook</a>'\n",
              "          + ' to learn more about interactive tables.';\n",
              "        element.innerHTML = '';\n",
              "        dataTable['output_type'] = 'display_data';\n",
              "        await google.colab.output.renderOutput(dataTable, element);\n",
              "        const docLink = document.createElement('div');\n",
              "        docLink.innerHTML = docLinkHtml;\n",
              "        element.appendChild(docLink);\n",
              "      }\n",
              "    </script>\n",
              "  </div>\n",
              "\n",
              "\n",
              "    <div id=\"df-01a201f4-df7b-4797-b902-8cd926bb91d5\">\n",
              "      <button class=\"colab-df-quickchart\" onclick=\"quickchart('df-01a201f4-df7b-4797-b902-8cd926bb91d5')\"\n",
              "                title=\"Suggest charts\"\n",
              "                style=\"display:none;\">\n",
              "\n",
              "<svg xmlns=\"http://www.w3.org/2000/svg\" height=\"24px\"viewBox=\"0 0 24 24\"\n",
              "     width=\"24px\">\n",
              "    <g>\n",
              "        <path d=\"M19 3H5c-1.1 0-2 .9-2 2v14c0 1.1.9 2 2 2h14c1.1 0 2-.9 2-2V5c0-1.1-.9-2-2-2zM9 17H7v-7h2v7zm4 0h-2V7h2v10zm4 0h-2v-4h2v4z\"/>\n",
              "    </g>\n",
              "</svg>\n",
              "      </button>\n",
              "\n",
              "<style>\n",
              "  .colab-df-quickchart {\n",
              "      --bg-color: #E8F0FE;\n",
              "      --fill-color: #1967D2;\n",
              "      --hover-bg-color: #E2EBFA;\n",
              "      --hover-fill-color: #174EA6;\n",
              "      --disabled-fill-color: #AAA;\n",
              "      --disabled-bg-color: #DDD;\n",
              "  }\n",
              "\n",
              "  [theme=dark] .colab-df-quickchart {\n",
              "      --bg-color: #3B4455;\n",
              "      --fill-color: #D2E3FC;\n",
              "      --hover-bg-color: #434B5C;\n",
              "      --hover-fill-color: #FFFFFF;\n",
              "      --disabled-bg-color: #3B4455;\n",
              "      --disabled-fill-color: #666;\n",
              "  }\n",
              "\n",
              "  .colab-df-quickchart {\n",
              "    background-color: var(--bg-color);\n",
              "    border: none;\n",
              "    border-radius: 50%;\n",
              "    cursor: pointer;\n",
              "    display: none;\n",
              "    fill: var(--fill-color);\n",
              "    height: 32px;\n",
              "    padding: 0;\n",
              "    width: 32px;\n",
              "  }\n",
              "\n",
              "  .colab-df-quickchart:hover {\n",
              "    background-color: var(--hover-bg-color);\n",
              "    box-shadow: 0 1px 2px rgba(60, 64, 67, 0.3), 0 1px 3px 1px rgba(60, 64, 67, 0.15);\n",
              "    fill: var(--button-hover-fill-color);\n",
              "  }\n",
              "\n",
              "  .colab-df-quickchart-complete:disabled,\n",
              "  .colab-df-quickchart-complete:disabled:hover {\n",
              "    background-color: var(--disabled-bg-color);\n",
              "    fill: var(--disabled-fill-color);\n",
              "    box-shadow: none;\n",
              "  }\n",
              "\n",
              "  .colab-df-spinner {\n",
              "    border: 2px solid var(--fill-color);\n",
              "    border-color: transparent;\n",
              "    border-bottom-color: var(--fill-color);\n",
              "    animation:\n",
              "      spin 1s steps(1) infinite;\n",
              "  }\n",
              "\n",
              "  @keyframes spin {\n",
              "    0% {\n",
              "      border-color: transparent;\n",
              "      border-bottom-color: var(--fill-color);\n",
              "      border-left-color: var(--fill-color);\n",
              "    }\n",
              "    20% {\n",
              "      border-color: transparent;\n",
              "      border-left-color: var(--fill-color);\n",
              "      border-top-color: var(--fill-color);\n",
              "    }\n",
              "    30% {\n",
              "      border-color: transparent;\n",
              "      border-left-color: var(--fill-color);\n",
              "      border-top-color: var(--fill-color);\n",
              "      border-right-color: var(--fill-color);\n",
              "    }\n",
              "    40% {\n",
              "      border-color: transparent;\n",
              "      border-right-color: var(--fill-color);\n",
              "      border-top-color: var(--fill-color);\n",
              "    }\n",
              "    60% {\n",
              "      border-color: transparent;\n",
              "      border-right-color: var(--fill-color);\n",
              "    }\n",
              "    80% {\n",
              "      border-color: transparent;\n",
              "      border-right-color: var(--fill-color);\n",
              "      border-bottom-color: var(--fill-color);\n",
              "    }\n",
              "    90% {\n",
              "      border-color: transparent;\n",
              "      border-bottom-color: var(--fill-color);\n",
              "    }\n",
              "  }\n",
              "</style>\n",
              "\n",
              "      <script>\n",
              "        async function quickchart(key) {\n",
              "          const quickchartButtonEl =\n",
              "            document.querySelector('#' + key + ' button');\n",
              "          quickchartButtonEl.disabled = true;  // To prevent multiple clicks.\n",
              "          quickchartButtonEl.classList.add('colab-df-spinner');\n",
              "          try {\n",
              "            const charts = await google.colab.kernel.invokeFunction(\n",
              "                'suggestCharts', [key], {});\n",
              "          } catch (error) {\n",
              "            console.error('Error during call to suggestCharts:', error);\n",
              "          }\n",
              "          quickchartButtonEl.classList.remove('colab-df-spinner');\n",
              "          quickchartButtonEl.classList.add('colab-df-quickchart-complete');\n",
              "        }\n",
              "        (() => {\n",
              "          let quickchartButtonEl =\n",
              "            document.querySelector('#df-01a201f4-df7b-4797-b902-8cd926bb91d5 button');\n",
              "          quickchartButtonEl.style.display =\n",
              "            google.colab.kernel.accessAllowed ? 'block' : 'none';\n",
              "        })();\n",
              "      </script>\n",
              "    </div>\n",
              "\n",
              "    </div>\n",
              "  </div>\n"
            ],
            "application/vnd.google.colaboratory.intrinsic+json": {
              "type": "dataframe",
              "variable_name": "control_metrics",
              "summary": "{\n  \"name\": \"control_metrics\",\n  \"rows\": 29,\n  \"fields\": [\n    {\n      \"column\": \"conversion_rate\",\n      \"properties\": {\n        \"dtype\": \"number\",\n        \"std\": 0.06838269827511541,\n        \"min\": 0.03349426674713337,\n        \"max\": 0.32235397452788755,\n        \"num_unique_values\": 29,\n        \"samples\": [\n          0.04109757598129691,\n          0.033503377912587895,\n          0.17429772174297722\n        ],\n        \"semantic_type\": \"\",\n        \"description\": \"\"\n      }\n    },\n    {\n      \"column\": \"ctr\",\n      \"properties\": {\n        \"dtype\": \"number\",\n        \"std\": 0.02050769146516837,\n        \"min\": 0.018575459285266986,\n        \"max\": 0.0883091199513197,\n        \"num_unique_values\": 29,\n        \"samples\": [\n          0.0883091199513197,\n          0.0668775126323166,\n          0.031126074025115663\n        ],\n        \"semantic_type\": \"\",\n        \"description\": \"\"\n      }\n    },\n    {\n      \"column\": \"cpa\",\n      \"properties\": {\n        \"dtype\": \"number\",\n        \"std\": 2.117020491171875,\n        \"min\": 2.25375,\n        \"max\": 9.806306306306306,\n        \"num_unique_values\": 29,\n        \"samples\": [\n          7.110778443113772,\n          7.720164609053498,\n          2.3794416243654823\n        ],\n        \"semantic_type\": \"\",\n        \"description\": \"\"\n      }\n    },\n    {\n      \"column\": \"add_to_cart_rate\",\n      \"properties\": {\n        \"dtype\": \"number\",\n        \"std\": 0.41145923852839,\n        \"min\": 0.2740963855421687,\n        \"max\": 2.015330188679245,\n        \"num_unique_values\": 29,\n        \"samples\": [\n          0.3522161649680019,\n          0.8014184397163121,\n          1.165361183637946\n        ],\n        \"semantic_type\": \"\",\n        \"description\": \"\"\n      }\n    }\n  ]\n}"
            }
          },
          "metadata": {},
          "execution_count": 81
        }
      ]
    },
    {
      "cell_type": "markdown",
      "source": [
        "## Main Hypothesis"
      ],
      "metadata": {
        "id": "CY_Xs8gpJTq9"
      }
    },
    {
      "cell_type": "markdown",
      "source": [
        "H₀ (Null Hypothesis):\n",
        "There is no difference in the conversion rate (Purchases / Website Clicks) between the test group and the control group.\n",
        "\n",
        "H₁ (Alternative Hypothesis):\n",
        "The test group has a higher conversion rate (Purchases / Website Clicks) than the control group."
      ],
      "metadata": {
        "id": "ZQc--fl6JNE1"
      }
    },
    {
      "cell_type": "markdown",
      "source": [
        "In this block, we will perform the Shapiro-Wilk test for normality to check if the data from the test group and control group follow a normal distribution."
      ],
      "metadata": {
        "id": "woxI8TaVZmTQ"
      }
    },
    {
      "cell_type": "code",
      "source": [
        "print(\"Test group normality: \", stats.shapiro(test_metrics['conversion_rate']))\n",
        "print(\"Control group normality: \", stats.shapiro(control_metrics['conversion_rate']))"
      ],
      "metadata": {
        "colab": {
          "base_uri": "https://localhost:8080/"
        },
        "id": "wIZaEkRFZMTV",
        "outputId": "83bd1b87-517e-4248-cab9-969184f30876"
      },
      "execution_count": 82,
      "outputs": [
        {
          "output_type": "stream",
          "name": "stdout",
          "text": [
            "Test group normality:  ShapiroResult(statistic=np.float64(0.9254688343258307), pvalue=np.float64(0.03726829960369907))\n",
            "Control group normality:  ShapiroResult(statistic=np.float64(0.8946046791264097), pvalue=np.float64(0.007293667050522254))\n"
          ]
        }
      ]
    },
    {
      "cell_type": "markdown",
      "source": [
        "After performing the Shapiro-Wilk test, it's important to visually inspect the data to understand its distribution. In this block, we will generate QQ plots for both the test group and the control group for the conversion_rate. QQ plots show if the data points lie close to the reference line. If the data points deviate significantly from the line, it suggests that the data is not normally distributed."
      ],
      "metadata": {
        "id": "pb81bGicZsRN"
      }
    },
    {
      "cell_type": "code",
      "source": [
        "plt.figure(figsize=(10, 6))\n",
        "stats.probplot(test_metrics['conversion_rate'], dist=\"norm\", plot=plt)\n",
        "plt.gca().get_lines()[0].set_color('blue')\n",
        "plt.gca().get_lines()[1].set_color('red')\n",
        "stats.probplot(control_metrics['conversion_rate'], dist=\"norm\", plot=plt)\n",
        "plt.gca().get_lines()[2].set_color('green')\n",
        "plt.gca().get_lines()[3].set_color('orange')\n",
        "plt.legend(['Empirical (Test)', 'Theoretical (Test)', 'Empirical (Control)', 'Theoretical (Control)'])\n",
        "plt.grid();"
      ],
      "metadata": {
        "colab": {
          "base_uri": "https://localhost:8080/",
          "height": 564
        },
        "id": "983kutARZQz0",
        "outputId": "319e5191-b03d-43f1-c68c-b704c3366419"
      },
      "execution_count": 83,
      "outputs": [
        {
          "output_type": "display_data",
          "data": {
            "text/plain": [
              "<Figure size 1000x600 with 1 Axes>"
            ],
            "image/png": "[encoded data removed]"
          },
          "metadata": {}
        }
      ]
    },
    {
      "cell_type": "markdown",
      "source": [
        "Since we already performed normality tests and found that the data does not follow a normal distribution, we will use the Mann-Whitney U test. This non-parametric test does not assume normality and is used to assess whether there is a statistically significant difference between two independent groups."
      ],
      "metadata": {
        "id": "KQ0YpzRwZ1Do"
      }
    },
    {
      "cell_type": "code",
      "source": [
        "test_stat, p_value = stats.mannwhitneyu(test_metrics['conversion_rate'], control_metrics['conversion_rate'])\n",
        "print(\"Mann-Whitney U Test p-value:\", round(p_value, 2))"
      ],
      "metadata": {
        "colab": {
          "base_uri": "https://localhost:8080/"
        },
        "id": "66dHDq0FZWN8",
        "outputId": "1d138dfd-08e3-461e-8d10-2526ae2ff7ca"
      },
      "execution_count": 84,
      "outputs": [
        {
          "output_type": "stream",
          "name": "stdout",
          "text": [
            "Mann-Whitney U Test p-value: 0.31\n"
          ]
        }
      ]
    },
    {
      "cell_type": "markdown",
      "source": [
        "For the conversion rate, the null hypothesis (H₀) stated that there is no difference between the test and control groups, while the alternative hypothesis (H₁) proposed that the test group would have a higher conversion rate. After conducting the test, we failed to reject the null hypothesis, with a p-value of 0.31. This result indicates that there is no statistically significant difference in conversion rates between the test and control groups. Therefore, the test group did not outperform the control group in terms of converting website visitors into purchases."
      ],
      "metadata": {
        "id": "XzFwu69hX9E_"
      }
    },
    {
      "cell_type": "markdown",
      "source": [
        "## Additional Hypotheses"
      ],
      "metadata": {
        "id": "4qFM8W9VJXKa"
      }
    },
    {
      "cell_type": "markdown",
      "source": [
        "### Click-Through Rate (CTR)"
      ],
      "metadata": {
        "id": "tAJ0q3wnJpAJ"
      }
    },
    {
      "cell_type": "markdown",
      "source": [
        "H₀: There is no difference in CTR (Website Clicks / Impressions) between the test and control groups.\n",
        "\n",
        "H₁: The test group has a higher CTR than the control group."
      ],
      "metadata": {
        "id": "shkr0K2gJZnt"
      }
    },
    {
      "cell_type": "markdown",
      "source": [
        "Before selecting an appropriate test for comparing CTR between groups, we check whether the data is normally distributed using the Shapiro-Wilk test.\n",
        "A p-value less than 0.05 suggests a significant deviation from normality."
      ],
      "metadata": {
        "id": "MnYbLne2WJ5n"
      }
    },
    {
      "cell_type": "code",
      "source": [
        "print(\"Test group normality: \", stats.shapiro(test_metrics['ctr']))\n",
        "print(\"Control group normality: \", stats.shapiro(control_metrics['ctr']))"
      ],
      "metadata": {
        "colab": {
          "base_uri": "https://localhost:8080/"
        },
        "id": "ogWHpozrJ8uD",
        "outputId": "9a484e26-54d6-4400-ac35-e613297fb8fa"
      },
      "execution_count": 85,
      "outputs": [
        {
          "output_type": "stream",
          "name": "stdout",
          "text": [
            "Test group normality:  ShapiroResult(statistic=np.float64(0.8409182166025053), pvalue=np.float64(0.000402531289346151))\n",
            "Control group normality:  ShapiroResult(statistic=np.float64(0.9549021042482709), pvalue=np.float64(0.24480975923502396))\n"
          ]
        }
      ]
    },
    {
      "cell_type": "markdown",
      "source": [
        "We create Q-Q plots to visually assess how well the CTR distributions in both groups follow a normal distribution.\n",
        "Deviations from the diagonal line indicate non-normality."
      ],
      "metadata": {
        "id": "1ijaXMePWMp5"
      }
    },
    {
      "cell_type": "code",
      "source": [
        "plt.figure(figsize=(10, 6))\n",
        "stats.probplot(test_metrics['ctr'], dist=\"norm\", plot=plt)\n",
        "plt.gca().get_lines()[0].set_color('blue')\n",
        "plt.gca().get_lines()[1].set_color('red')\n",
        "stats.probplot(control_metrics['ctr'], dist=\"norm\", plot=plt)\n",
        "plt.gca().get_lines()[2].set_color('green')\n",
        "plt.gca().get_lines()[3].set_color('orange')\n",
        "plt.legend(['Empirical (Test)', 'Theoretical (Test)', 'Empirical (Control)', 'Theoretical (Control)'])\n",
        "plt.grid();"
      ],
      "metadata": {
        "colab": {
          "base_uri": "https://localhost:8080/",
          "height": 564
        },
        "id": "B9fmsLJZPzIH",
        "outputId": "5bbca80a-042f-44fe-ebbd-c05db01ecd3c"
      },
      "execution_count": 86,
      "outputs": [
        {
          "output_type": "display_data",
          "data": {
            "text/plain": [
              "<Figure size 1000x600 with 1 Axes>"
            ],
            "image/png": "[encoded data removed]"
          },
          "metadata": {}
        }
      ]
    },
    {
      "cell_type": "markdown",
      "source": [
        "Since normality may not hold, we use the Mann–Whitney U test (a non-parametric alternative to the t-test) to compare CTR between the groups.\n",
        "This test does not assume normality and is based on ranks."
      ],
      "metadata": {
        "id": "pM6dcmP1WSe3"
      }
    },
    {
      "cell_type": "code",
      "source": [
        "test_stat, p_value = stats.mannwhitneyu(test_metrics['ctr'], control_metrics['ctr'])\n",
        "print(\"Mann-Whitney U Test p-value:\", round(p_value, 4))"
      ],
      "metadata": {
        "colab": {
          "base_uri": "https://localhost:8080/"
        },
        "id": "ts39K_YIPKr5",
        "outputId": "3cd3b00e-7529-490e-9f33-18c8046e4c3b"
      },
      "execution_count": 87,
      "outputs": [
        {
          "output_type": "stream",
          "name": "stdout",
          "text": [
            "Mann-Whitney U Test p-value: 0.0003\n"
          ]
        }
      ]
    },
    {
      "cell_type": "markdown",
      "source": [
        "To better understand the difference in CTR distributions between the test and control groups, we use a boxplot.\n",
        "This visualization helps identify differences in central tendency and variability."
      ],
      "metadata": {
        "id": "LBgJOf-YWYZw"
      }
    },
    {
      "cell_type": "code",
      "source": [
        "test_metrics['Group'] = 'Test'\n",
        "control_metrics['Group'] = 'Control'\n",
        "test_and_control_metrics = pd.concat([test_metrics, control_metrics], axis=0)\n",
        "\n",
        "plt.figure(figsize=(7, 8))\n",
        "sns.boxplot(x='Group', y='ctr', data=test_and_control_metrics, color='navy', medianprops=dict(color=\"red\"))\n",
        "plt.title('CTR Distribution by group')\n",
        "plt.xlabel('Group')\n",
        "plt.ylabel('CTR')"
      ],
      "metadata": {
        "colab": {
          "base_uri": "https://localhost:8080/",
          "height": 736
        },
        "id": "afpi-2mERNuX",
        "outputId": "d0a483bc-e8aa-4b66-b3c9-d326bdfe140d"
      },
      "execution_count": 88,
      "outputs": [
        {
          "output_type": "execute_result",
          "data": {
            "text/plain": [
              "Text(0, 0.5, 'CTR')"
            ]
          },
          "metadata": {},
          "execution_count": 88
        },
        {
          "output_type": "display_data",
          "data": {
            "text/plain": [
              "<Figure size 700x800 with 1 Axes>"
            ],
            "image/png": "[encoded data removed]"
          },
          "metadata": {}
        }
      ]
    },
    {
      "cell_type": "markdown",
      "source": [
        "For the CTR, the null hypothesis (H₀) assumed no difference between the test and control groups, while the alternative hypothesis (H₁) suggested that the test group would have a higher CTR. The results showed a p-value of 0.0003, which is well below the commonly accepted significance level of 0.05. Thus, we rejected the null hypothesis. This indicates that the test group has a statistically significant higher CTR than the control group, meaning that users in the test group were more likely to click on the website’s content after viewing an impression."
      ],
      "metadata": {
        "id": "Xt805ivSYFNR"
      }
    },
    {
      "cell_type": "markdown",
      "source": [
        "### Cost per Acquisition (CPA)"
      ],
      "metadata": {
        "id": "IpI3VUjjJqGI"
      }
    },
    {
      "cell_type": "markdown",
      "source": [
        "H₀: There is no difference in CPA (Spend / Purchases) between the groups.\n",
        "\n",
        "H₁: The test group has a lower CPA than the control group."
      ],
      "metadata": {
        "id": "q8YTOmKTJl-j"
      }
    },
    {
      "cell_type": "markdown",
      "source": [
        "We begin by checking whether the CPA (Cost per Acquisition) values are normally distributed for both the test and control groups using the Shapiro-Wilk test.\n",
        "If the p-value is below 0.05, we reject the assumption of normality."
      ],
      "metadata": {
        "id": "e8Q-vwYJW2gy"
      }
    },
    {
      "cell_type": "code",
      "source": [
        "print(\"Test group normality: \", stats.shapiro(test_metrics['cpa']))\n",
        "print(\"Control group normality: \", stats.shapiro(control_metrics['cpa']))"
      ],
      "metadata": {
        "colab": {
          "base_uri": "https://localhost:8080/"
        },
        "id": "Xd23HbikJ9Io",
        "outputId": "903763c4-d7ad-4801-82de-a0b94eb1ea3c"
      },
      "execution_count": 89,
      "outputs": [
        {
          "output_type": "stream",
          "name": "stdout",
          "text": [
            "Test group normality:  ShapiroResult(statistic=np.float64(0.8965798196078477), pvalue=np.float64(0.006934224858783165))\n",
            "Control group normality:  ShapiroResult(statistic=np.float64(0.9131872183920033), pvalue=np.float64(0.02056352984195968))\n"
          ]
        }
      ]
    },
    {
      "cell_type": "markdown",
      "source": [
        "To visually assess the normality of the CPA data, we use Q-Q plots for both groups.\n",
        "Deviations from the reference line suggest non-normal distribution and help justify the use of non-parametric tests."
      ],
      "metadata": {
        "id": "2e7i7EHgW5h0"
      }
    },
    {
      "cell_type": "code",
      "source": [
        "plt.figure(figsize=(10, 6))\n",
        "stats.probplot(test_metrics['cpa'], dist=\"norm\", plot=plt)\n",
        "plt.gca().get_lines()[0].set_color('blue')\n",
        "plt.gca().get_lines()[1].set_color('red')\n",
        "stats.probplot(control_metrics['cpa'], dist=\"norm\", plot=plt)\n",
        "plt.gca().get_lines()[2].set_color('green')\n",
        "plt.gca().get_lines()[3].set_color('orange')\n",
        "plt.legend(['Empirical (Test)', 'Theoretical (Test)', 'Empirical (Control)', 'Theoretical (Control)'])\n",
        "plt.grid();"
      ],
      "metadata": {
        "colab": {
          "base_uri": "https://localhost:8080/",
          "height": 564
        },
        "id": "O8bUVfJoTd3x",
        "outputId": "92004a50-07bd-434f-f625-2c5a65305ad1"
      },
      "execution_count": 90,
      "outputs": [
        {
          "output_type": "display_data",
          "data": {
            "text/plain": [
              "<Figure size 1000x600 with 1 Axes>"
            ],
            "image/png": "[encoded data removed]"
          },
          "metadata": {}
        }
      ]
    },
    {
      "cell_type": "markdown",
      "source": [
        "Since normality may not hold, we apply the Mann–Whitney U test to compare CPA between the two groups.\n",
        "We use the one-sided alternative hypothesis: the test group has a lower CPA than the control group."
      ],
      "metadata": {
        "id": "0tmu6VCbW8_q"
      }
    },
    {
      "cell_type": "code",
      "source": [
        "u_stat, p_value = stats.mannwhitneyu(test_metrics['cpa'], control_metrics['cpa'], alternative='less')\n",
        "print(\"Mann-Whitney U Test p-value:\", round(p_value, 2))"
      ],
      "metadata": {
        "colab": {
          "base_uri": "https://localhost:8080/"
        },
        "id": "Vi0gG_QNTs8V",
        "outputId": "75bbb49d-fe92-4827-b2ea-906507737730"
      },
      "execution_count": 91,
      "outputs": [
        {
          "output_type": "stream",
          "name": "stdout",
          "text": [
            "Mann-Whitney U Test p-value: 0.87\n"
          ]
        }
      ]
    },
    {
      "cell_type": "markdown",
      "source": [
        "For CPA, the null hypothesis (H₀) proposed no difference between the two groups, while the alternative hypothesis (H₁) suggested that the test group would have a lower CPA. The result of the Mann-Whitney U test gave a p-value of 0.87, which is much higher than 0.05. As a result, we failed to reject the null hypothesis. This suggests that there is no significant difference in CPA between the test and control groups. In other words, the test group did not achieve a lower cost per acquisition compared to the control group."
      ],
      "metadata": {
        "id": "7zpqCUTaYPrE"
      }
    },
    {
      "cell_type": "markdown",
      "source": [
        "### Add to Cart Rate"
      ],
      "metadata": {
        "id": "QZ_qF-K6J2H6"
      }
    },
    {
      "cell_type": "markdown",
      "source": [
        "H₀: No difference in Add to Cart rate (Add to Cart / View Content) between groups.\n",
        "\n",
        "H₁: There is a difference in Add to Cart rate (Add to Cart / View Content) between groups."
      ],
      "metadata": {
        "id": "aOMiBnJSJzbA"
      }
    },
    {
      "cell_type": "markdown",
      "source": [
        "Now we test whether the add-to-cart rate is normally distributed within each group using the Shapiro-Wilk test.\n",
        "This helps us determine the appropriate statistical test for comparison."
      ],
      "metadata": {
        "id": "85jUVnIpXA3m"
      }
    },
    {
      "cell_type": "code",
      "source": [
        "print(\"Test group normality: \", stats.shapiro(test_metrics['add_to_cart_rate']))\n",
        "print(\"Control group normality: \", stats.shapiro(control_metrics['add_to_cart_rate']))"
      ],
      "metadata": {
        "colab": {
          "base_uri": "https://localhost:8080/"
        },
        "id": "0H7iTU-sJ9iP",
        "outputId": "0465f9f7-d862-424a-f2ae-f8d36fff7c42"
      },
      "execution_count": 92,
      "outputs": [
        {
          "output_type": "stream",
          "name": "stdout",
          "text": [
            "Test group normality:  ShapiroResult(statistic=np.float64(0.9729065705249339), pvalue=np.float64(0.6213652151075515))\n",
            "Control group normality:  ShapiroResult(statistic=np.float64(0.910932512670654), pvalue=np.float64(0.018078724784018688))\n"
          ]
        }
      ]
    },
    {
      "cell_type": "markdown",
      "source": [
        "We generate Q-Q plots to inspect the add-to-cart rate distributions visually.\n",
        "This complements the Shapiro test and allows us to better understand the shape of the data."
      ],
      "metadata": {
        "id": "U5Ni19jVXGja"
      }
    },
    {
      "cell_type": "code",
      "source": [
        "plt.figure(figsize=(10, 6))\n",
        "stats.probplot(test_metrics['add_to_cart_rate'], dist=\"norm\", plot=plt)\n",
        "plt.gca().get_lines()[0].set_color('blue')\n",
        "plt.gca().get_lines()[1].set_color('red')\n",
        "stats.probplot(control_metrics['add_to_cart_rate'], dist=\"norm\", plot=plt)\n",
        "plt.gca().get_lines()[2].set_color('green')\n",
        "plt.gca().get_lines()[3].set_color('orange')\n",
        "plt.legend(['Empirical (Test)', 'Theoretical (Test)', 'Empirical (Control)', 'Theoretical (Control)'])\n",
        "plt.grid();"
      ],
      "metadata": {
        "colab": {
          "base_uri": "https://localhost:8080/",
          "height": 564
        },
        "id": "VihmyYS8UOEH",
        "outputId": "ed57aff9-93fe-4120-c680-3b98eebefeb0"
      },
      "execution_count": 93,
      "outputs": [
        {
          "output_type": "display_data",
          "data": {
            "text/plain": [
              "<Figure size 1000x600 with 1 Axes>"
            ],
            "image/png": "[encoded data removed]"
          },
          "metadata": {}
        }
      ]
    },
    {
      "cell_type": "markdown",
      "source": [
        "In this case, the Shapiro-Wilk test indicates that the data is not normally distributed, as the p-value is less than 0.05. However, the QQ plot shows only slight deviations from normality at the ends of the distribution (heavy tails), which means the data is approximately normal with minor deviations."
      ],
      "metadata": {
        "id": "L7pP9iCtY-QV"
      }
    },
    {
      "cell_type": "markdown",
      "source": [
        "If the add-to-cart rate appears approximately normal, we can proceed with an independent samples t-test.\n",
        "This test checks for a statistically significant difference in means between the test and control groups."
      ],
      "metadata": {
        "id": "hkkdm252XKDu"
      }
    },
    {
      "cell_type": "code",
      "source": [
        "t_stat, p_value = stats.ttest_ind(\n",
        "    test_metrics['add_to_cart_rate'],\n",
        "    control_metrics['add_to_cart_rate'],\n",
        "\n",
        ")\n",
        "\n",
        "alpha = 0.05\n",
        "\n",
        "if p_value < alpha:\n",
        "    print(f\"Reject H₀: The groups have a significant difference, p-value is {round(p_value, 4)}.\")\n",
        "else:\n",
        "    print(f\"Fail to reject H₀: No significant difference found, p-value is {round(p_value, 2)}.\")"
      ],
      "metadata": {
        "colab": {
          "base_uri": "https://localhost:8080/"
        },
        "id": "zo3gvNtUUb--",
        "outputId": "e7f10a41-bff1-40f3-de3d-7dfc80ad1c10"
      },
      "execution_count": 94,
      "outputs": [
        {
          "output_type": "stream",
          "name": "stdout",
          "text": [
            "Reject H₀: The groups have a significant difference, p-value is 0.0041.\n"
          ]
        }
      ]
    },
    {
      "cell_type": "markdown",
      "source": [
        "To illustrate the distribution of the add-to-cart rate in each group, we use a boxplot.\n",
        "This allows us to visually compare medians, spread, and potential outliers across groups."
      ],
      "metadata": {
        "id": "lXv3TpkwXOus"
      }
    },
    {
      "cell_type": "code",
      "source": [
        "plt.figure(figsize=(7, 8))\n",
        "sns.boxplot(x='Group', y='add_to_cart_rate', data=test_and_control_metrics, color='navy', medianprops=dict(color=\"red\"))\n",
        "plt.title('Add_to_cart_rate Distribution by group')\n",
        "plt.xlabel('Group')\n",
        "plt.ylabel('add_to_cart_rate')"
      ],
      "metadata": {
        "colab": {
          "base_uri": "https://localhost:8080/",
          "height": 736
        },
        "id": "F1Vrgm1LVGkD",
        "outputId": "6d15e32b-b788-4375-a4aa-634cff6efd62"
      },
      "execution_count": 95,
      "outputs": [
        {
          "output_type": "execute_result",
          "data": {
            "text/plain": [
              "Text(0, 0.5, 'add_to_cart_rate')"
            ]
          },
          "metadata": {},
          "execution_count": 95
        },
        {
          "output_type": "display_data",
          "data": {
            "text/plain": [
              "<Figure size 700x800 with 1 Axes>"
            ],
            "image/png": "[encoded data removed]"
          },
          "metadata": {}
        }
      ]
    },
    {
      "cell_type": "markdown",
      "source": [
        "For the Add to Cart rate, the null hypothesis (H₀) assumed no difference between the test and control groups, while the alternative hypothesis (H₁) suggested a difference between the two groups. The results revealed a p-value of 0.0041, which is below the 0.05 threshold for statistical significance. Therefore, we rejected the null hypothesis. This suggests that there is a statistically significant difference in the Add to Cart rate between the test and control groups, indicating that the test group was more likely to add items to the cart compared to the control group."
      ],
      "metadata": {
        "id": "mTYpgfROYVxM"
      }
    },
    {
      "cell_type": "markdown",
      "source": [
        "# Overall Summary"
      ],
      "metadata": {
        "id": "pjVxyuW0Yaoo"
      }
    },
    {
      "cell_type": "markdown",
      "source": [
        "In conclusion, of the four metrics tested, two (CTR and Add to Cart rate) showed statistically significant differences, with the test group outperforming the control group in both areas. However, for the conversion rate and CPA, we found no significant improvements, suggesting that although the test group displayed higher engagement (increased CTR and Add to Cart rate), this did not translate into higher conversion rates or lower acquisition costs.\n",
        "\n",
        "Given these results, further analysis or additional testing may be required before making any decisions, especially if the main goal is to improve conversions or reduce CPA. The current test suggests that while user engagement has improved, more changes or optimizations may be necessary to see measurable impact on sales performance."
      ],
      "metadata": {
        "id": "4QTy_7P0YcNJ"
      }
    }
  ]
}